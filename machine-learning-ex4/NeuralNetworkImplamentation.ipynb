{
 "cells": [
  {
   "cell_type": "markdown",
   "metadata": {},
   "source": [
    "# Functions"
   ]
  },
  {
   "cell_type": "code",
   "execution_count": 7,
   "metadata": {},
   "outputs": [],
   "source": [
    "def displayData(imagenes):\n",
    "    fig = plt.figure(figsize=(8, 8), constrained_layout=False)\n",
    "    outer_grid = fig.add_gridspec(10, 10, wspace=0.0, hspace=0.0)\n",
    "    \n",
    "    \n",
    "    for x in range(100):\n",
    "        ax = fig.add_subplot(outer_grid[x])\n",
    "        ax.imshow(imagenes[x,:,:])\n",
    "        \n",
    "    all_axes = fig.get_axes()\n",
    "\n",
    "    for ax in all_axes:\n",
    "        ax.set_xticks([])\n",
    "        ax.set_yticks([])\n",
    "        for sp in ax.spines.values():\n",
    "            sp.set_visible(True)\n",
    "\n",
    "    plt.show()"
   ]
  },
  {
   "cell_type": "code",
   "execution_count": 62,
   "metadata": {},
   "outputs": [],
   "source": [
    "#Particular\n",
    "def nnCostFunction(weights, \n",
    "                   input_layer_size, \n",
    "                   hidden_layer_size, \n",
    "                   num_labels, \n",
    "                   X, y, lambdas):\n",
    "    \n",
    "    #X = X.reshape(10000,784)\n",
    "    m = X.shape[0]\n",
    "    J = 0\n",
    "    \n",
    "    Theta1 = weights[0]\n",
    "    Theta2 = weights[1]\n",
    "    \n",
    "    Theta1_grad = np.zeros(Theta1.shape)\n",
    "    Theta2_grad = np.zeros(Theta2.shape)\n",
    "    \n",
    "    I = np.eye(num_labels) #Identity\n",
    "    y_new = I[y,:].T # This transforms values from 0-10 to vector\n",
    "    \n",
    "    \n",
    "    #Forward Propagation\n",
    "    a1 = np.insert(X, 0, 1, axis=1) #Insert ones in 0 position in columns\n",
    "    z2 = np.dot(Theta1, a1.T)\n",
    "    a2 = sigmoid(z2)\n",
    "    z3 = np.dot(Theta2, np.insert(a2,0,1,axis=0))\n",
    "    a3 = sigmoid(z3)\n",
    "    h = a3\n",
    "    \n",
    "    #Backpropagation\n",
    "    d3 = a3-y_new\n",
    "    d2 = np.dot(Theta2.T,d3)*sigmoidGradient(np.insert(z2,0,1,axis=0))\n",
    "    \n",
    "    delta2 = np.dot(d3, np.insert(a2,0,1,axis=0).T)\n",
    "    delta1 = np.dot(d2[1:,:], a1)\n",
    "    \n",
    "    \n",
    "     \n",
    "    \n",
    "    #Cost Function\n",
    "    termino1 = -y_new*np.log(h)\n",
    "    termino2 = -(1-y_new)*np.log(1-h)\n",
    "    regularizationterm = (np.sum(Theta1**2)+np.sum(Theta2**2))\n",
    "    J = (1/m)*np.sum(termino1+termino2)+(lambdas/(2*m))*regularizationterm\n",
    "    \n",
    "    #Gradients\n",
    "    Theta1_grad = delta1\n",
    "    Theta2_grad = delta2\n",
    "    gradients_params = {'Gradient1':Theta1_grad, 'Gradient2':Theta2_grad}#Creation of a dictionary for weights\n",
    "    gradients = list(gradients_params.values())\n",
    "    \n",
    "    return J, gradients\n",
    "    "
   ]
  },
  {
   "cell_type": "code",
   "execution_count": 188,
   "metadata": {},
   "outputs": [],
   "source": [
    "#General\n",
    "def nnCostFunctionAuto(weights, #It is a list of all weights\n",
    "                   unit_layers, #It is a list containing the size of each layer\n",
    "                   X, y, lambdas): \n",
    "    \n",
    "    #num_labels = unit_layers.index(unit_layers[-1])+1\n",
    "    num_labels = len(unit_layers)\n",
    "    \n",
    "    I = np.eye(unit_layers[-1]) #Identity\n",
    "    y_new = I[y,:].T # This transforms values from 0-10 to vector\n",
    "    \n",
    "    m = X.shape[0]\n",
    "    X = X.T\n",
    "    A = []\n",
    "    Z = []\n",
    "    gradients = []\n",
    "    \n",
    "    #Forward\n",
    "    for i in range(num_labels):#We go layer to layer\n",
    "        if i == 0:#input layer\n",
    "            a = X\n",
    "            A.append(a)\n",
    "        else:#hidden layer and final layer\n",
    "            z = np.dot(weights[i-1], np.insert(a, 0, 1, axis=0))\n",
    "            Z.append(z)\n",
    "            a = sigmoid(z)\n",
    "            A.append(a)\n",
    "        \n",
    "    h = A[-1]#Final layer\n",
    "\n",
    "    regularizationterm = 0\n",
    "\n",
    "    #Backpropagation\n",
    "    for i in range(num_labels-1):\n",
    "        j = (num_labels-2)-i\n",
    "        if i == 0:#Final layer\n",
    "            d = A[j+1]-y\n",
    "            a = A[j]\n",
    "            G = np.dot(d, np.insert(a,0,1,axis=0).T)\n",
    "            gradients.insert(0, G)\n",
    "        else:#hidden layers\n",
    "            theta = weights[j+1]\n",
    "            z = Z[j]\n",
    "            d = np.dot(theta.T, d)*sigmoidGradient(np.insert(z,0,1,axis=0))\n",
    "            a = A[j]\n",
    "            G = np.dot(d, np.insert(a,0,1,axis=0).T)\n",
    "            gradients.insert(0, G[1:,:])\n",
    "        regularizationterm = regularizationterm + np.sum(weights[j]**2)\n",
    "\n",
    "    #Cost Function\n",
    "    termino1 = -y_new*np.log(h)\n",
    "    termino2 = -(1-y_new)*np.log(1-h)\n",
    "    J = (1/m)*np.sum(termino1+termino2)+(lambdas/(2*m))*regularizationterm\n",
    "    \n",
    "    \n",
    "    return J, gradients"
   ]
  },
  {
   "cell_type": "code",
   "execution_count": 149,
   "metadata": {},
   "outputs": [
    {
     "name": "stdout",
     "output_type": "stream",
     "text": [
      "0.0010442728508965422\n",
      "(2, 4)\n",
      "(3, 3)\n"
     ]
    }
   ],
   "source": [
    "J, G = nnCostFunctionAuto(weights, unit_layers, x, y, lambdas)\n",
    "print(J)\n",
    "print(G[0].shape)\n",
    "print(G[1].shape)"
   ]
  },
  {
   "cell_type": "code",
   "execution_count": null,
   "metadata": {},
   "outputs": [],
   "source": []
  },
  {
   "cell_type": "code",
   "execution_count": null,
   "metadata": {},
   "outputs": [],
   "source": []
  },
  {
   "cell_type": "code",
   "execution_count": null,
   "metadata": {},
   "outputs": [],
   "source": []
  },
  {
   "cell_type": "code",
   "execution_count": null,
   "metadata": {},
   "outputs": [],
   "source": []
  },
  {
   "cell_type": "code",
   "execution_count": 8,
   "metadata": {},
   "outputs": [],
   "source": [
    "def sigmoid(z):\n",
    "    g = 1/(1+np.exp(-z))\n",
    "    return g"
   ]
  },
  {
   "cell_type": "code",
   "execution_count": 53,
   "metadata": {},
   "outputs": [],
   "source": [
    "def sigmoidGradient(z):\n",
    "    gz = sigmoid(z)\n",
    "    g = gz*(1-gz)\n",
    "    return g"
   ]
  },
  {
   "cell_type": "code",
   "execution_count": 4,
   "metadata": {},
   "outputs": [],
   "source": [
    "def randInitializeWeights(L_in, L_out):\n",
    "    epsilon_init = 0.12\n",
    "    W = np.random.rand(L_out, L_in+1)*(2*epsilon_init)-epsilon_init\n",
    "    return W"
   ]
  },
  {
   "cell_type": "code",
   "execution_count": null,
   "metadata": {},
   "outputs": [],
   "source": []
  },
  {
   "cell_type": "code",
   "execution_count": null,
   "metadata": {},
   "outputs": [],
   "source": []
  },
  {
   "cell_type": "markdown",
   "metadata": {},
   "source": [
    "# Import libraries"
   ]
  },
  {
   "cell_type": "code",
   "execution_count": 1,
   "metadata": {},
   "outputs": [],
   "source": [
    "from scipy.io import loadmat\n",
    "import numpy as np\n",
    "import random\n",
    "import matplotlib.pyplot as plt\n",
    "import torch\n",
    "import torchvision\n",
    "from torchvision import transforms\n",
    "from tqdm import tqdm\n",
    "import math"
   ]
  },
  {
   "cell_type": "markdown",
   "metadata": {},
   "source": [
    "# Data Importation"
   ]
  },
  {
   "cell_type": "code",
   "execution_count": 120,
   "metadata": {},
   "outputs": [
    {
     "name": "stdout",
     "output_type": "stream",
     "text": [
      "(10000, 28, 28)\n",
      "(10000,)\n"
     ]
    }
   ],
   "source": [
    "# Import pytorch data\n",
    "transform = transforms.Compose([\n",
    "                                transforms.ToTensor()])\n",
    "mnist_data_test = torchvision.datasets.MNIST(root = '.', train=False, download=True,\n",
    "                                            transform=transform)\n",
    "#vars(mnist_data_test)\n",
    "#dir(mnist_data_test)\n",
    "X = mnist_data_test.data.numpy()\n",
    "X_dimensions = X.shape\n",
    "x = X.reshape(X_dimensions[0], X_dimensions[1]*X_dimensions[2])\n",
    "y = mnist_data_test.targets.numpy()\n",
    "print(X.shape)\n",
    "print(y.shape)"
   ]
  },
  {
   "cell_type": "code",
   "execution_count": null,
   "metadata": {},
   "outputs": [],
   "source": [
    "# Import matlab dat\n",
    "X = loadmat('ex4data1.mat')['X'] # each row contain the vector pixel of each image\n",
    "y = loadmat('ex4data1.mat')['y'] # each row contain the number\n",
    "print(X.shape)\n",
    "print(y.shape)"
   ]
  },
  {
   "cell_type": "code",
   "execution_count": 190,
   "metadata": {},
   "outputs": [
    {
     "name": "stdout",
     "output_type": "stream",
     "text": [
      "(5000, 20, 20)\n",
      "(5000,)\n"
     ]
    }
   ],
   "source": [
    "# Import matlab dat new\n",
    "x = loadmat('ex4data1.mat')['X'] # each row contain the vector pixel of each image\n",
    "y = loadmat('ex4data1.mat')['y'] # each row contain the number\n",
    "X = x.reshape(x.shape[0], int(math.sqrt(x.shape[1])), int(math.sqrt(x.shape[1])))\n",
    "X_dimensions = X.shape\n",
    "y = np.where(y == 10, 0, y)\n",
    "y = y.reshape(-1)\n",
    "print(X.shape)\n",
    "print(y.shape)"
   ]
  },
  {
   "cell_type": "code",
   "execution_count": 197,
   "metadata": {},
   "outputs": [
    {
     "name": "stdout",
     "output_type": "stream",
     "text": [
      "(25, 401)\n",
      "(10, 26)\n"
     ]
    }
   ],
   "source": [
    "w1 = loadmat('ex4weights.mat')['Theta1']\n",
    "w2 = loadmat('ex4weights.mat')['Theta2']\n",
    "weights = [w1, w2]\n",
    "print(w1.shape)\n",
    "print(w2.shape)"
   ]
  },
  {
   "cell_type": "code",
   "execution_count": 198,
   "metadata": {},
   "outputs": [
    {
     "data": {
      "text/plain": [
       "array([[-2.25623899e-02, -1.05624163e-08,  2.19414684e-09, ...,\n",
       "        -1.30529929e-05, -5.04175101e-06,  2.80464449e-09],\n",
       "       [-9.83811294e-02,  7.66168682e-09, -9.75873689e-09, ...,\n",
       "        -5.60134007e-05,  2.00940969e-07,  3.54422854e-09],\n",
       "       [ 1.16156052e-01, -8.77654466e-09,  8.16037764e-09, ...,\n",
       "        -1.20951657e-04, -2.33669661e-06, -7.50668099e-09],\n",
       "       ...,\n",
       "       [-1.83220638e-01, -8.89272060e-09, -9.81968100e-09, ...,\n",
       "         2.35311186e-05, -3.25484493e-06,  9.02499060e-09],\n",
       "       [-7.02096331e-01,  3.05178374e-10,  2.56061008e-09, ...,\n",
       "        -8.61759744e-04,  9.43449909e-05,  3.83761998e-09],\n",
       "       [-3.50933229e-01,  8.85876862e-09, -6.57515140e-10, ...,\n",
       "        -1.80365926e-06, -8.14464807e-06,  8.79454531e-09]])"
      ]
     },
     "execution_count": 198,
     "metadata": {},
     "output_type": "execute_result"
    }
   ],
   "source": [
    "w1"
   ]
  },
  {
   "cell_type": "markdown",
   "metadata": {},
   "source": [
    "# Initialization"
   ]
  },
  {
   "cell_type": "code",
   "execution_count": null,
   "metadata": {},
   "outputs": [],
   "source": [
    "#For Matlab\n",
    "input_layer_size = 400 # Input units\n",
    "hidden_layer_size = 25 # Hidden units\n",
    "num_labels = 10 # Classes\n",
    "theta1 = loadmat('ex4weights.mat')['Theta1']\n",
    "theta2 = loadmat('ex4weights.mat')['Theta2']\n",
    "print(theta1.shape)\n",
    "print(theta2.shape)"
   ]
  },
  {
   "cell_type": "code",
   "execution_count": null,
   "metadata": {},
   "outputs": [],
   "source": [
    "#For Pytorch\n",
    "input_layer_size = 784 # Input units\n",
    "hidden_layer_size = 25 # Hidden units\n",
    "num_labels = 10 # Classes\n",
    "theta1 = np.random.rand(25,785)\n",
    "theta2 = np.random.rand(10,26)\n",
    "nn_params = {'theta1':theta1, 'theta2':theta2}#Creation of a dictionary for weights\n",
    "weights = list(nn_params.values()) #This is a list\n",
    "lambdas = 0\n",
    "#lambdas = 1"
   ]
  },
  {
   "cell_type": "code",
   "execution_count": 196,
   "metadata": {},
   "outputs": [
    {
     "name": "stdout",
     "output_type": "stream",
     "text": [
      "(25, 401)\n",
      "(10, 26)\n",
      "[400, 25, 10]\n"
     ]
    }
   ],
   "source": [
    "#For Pytorch with automatization\n",
    "lambdas = 0\n",
    "layers = 3 # number of layers\n",
    "unit_layers = [X_dimensions[1]*X_dimensions[2], 25, 10]\n",
    "weights = []\n",
    "#Creating thetas: Random Initialize\n",
    "for i in range(layers-1):\n",
    "    theta = randInitializeWeights(unit_layers[i], unit_layers[i+1])\n",
    "    weights.append(theta)\n",
    "    print(theta.shape)\n",
    "print(unit_layers)"
   ]
  },
  {
   "cell_type": "markdown",
   "metadata": {},
   "source": [
    "# Visualizing Data"
   ]
  },
  {
   "cell_type": "code",
   "execution_count": null,
   "metadata": {},
   "outputs": [],
   "source": [
    "# For Matlab\n",
    "# Parameters\n",
    "X_dimensions = X.shape\n",
    "m = X_dimensions[0] # No. of training examples\n",
    "n = X_dimensions[1] # No. of features\n",
    "\n",
    "# Randomly select 100 data points to display\n",
    "sel = np.random.randint(m, size=100)\n",
    "images = X[sel,:].reshape((100,20,20)) #Make a reshape to convert to 20x20 pixels\n",
    "displayData(images)"
   ]
  },
  {
   "cell_type": "code",
   "execution_count": 10,
   "metadata": {},
   "outputs": [
    {
     "data": {
      "image/png": "[encoded data removed]",
      "text/plain": [
       "<Figure size 576x576 with 100 Axes>"
      ]
     },
     "metadata": {},
     "output_type": "display_data"
    }
   ],
   "source": [
    "# Pytorch data\n",
    "# Parameters\n",
    "#new_x = X.reshape(10000, 784)\n",
    "x_dimensions = x.shape\n",
    "m = x_dimensions[0] # No. of training examples\n",
    "n = x_dimensions[1] # No. of features\n",
    "\n",
    "# Randomly select 100 data points to display\n",
    "sel = np.random.randint(m, size=100)\n",
    "images = x[sel,:].reshape((100,int(math.sqrt(x_dimensions[1])),int(math.sqrt(x_dimensions[1])))) #Make a reshape to convert to 20x20 pixels\n",
    "displayData(images)"
   ]
  },
  {
   "cell_type": "code",
   "execution_count": null,
   "metadata": {},
   "outputs": [],
   "source": []
  },
  {
   "cell_type": "markdown",
   "metadata": {},
   "source": [
    "# Compute Cost Function (FeedForward Propagation)"
   ]
  },
  {
   "cell_type": "code",
   "execution_count": 195,
   "metadata": {},
   "outputs": [
    {
     "data": {
      "text/plain": [
       "10.44145967277798"
      ]
     },
     "execution_count": 195,
     "metadata": {},
     "output_type": "execute_result"
    }
   ],
   "source": [
    "J,_ = nnCostFunctionAuto(weights, unit_layers, x, y, lambdas)\n",
    "J"
   ]
  },
  {
   "cell_type": "markdown",
   "metadata": {},
   "source": [
    "# Implementing regularization"
   ]
  },
  {
   "cell_type": "code",
   "execution_count": 82,
   "metadata": {},
   "outputs": [],
   "source": [
    "lambdas = 1"
   ]
  },
  {
   "cell_type": "code",
   "execution_count": 84,
   "metadata": {},
   "outputs": [
    {
     "data": {
      "text/plain": [
       "7.095007255780424"
      ]
     },
     "execution_count": 84,
     "metadata": {},
     "output_type": "execute_result"
    }
   ],
   "source": [
    "J,_ = nnCostFunctionAuto(weights, unit_layers, x, y, lambdas)\n",
    "J"
   ]
  },
  {
   "cell_type": "markdown",
   "metadata": {},
   "source": [
    "# Implementing Backpropagation"
   ]
  },
  {
   "cell_type": "code",
   "execution_count": 87,
   "metadata": {},
   "outputs": [
    {
     "name": "stdout",
     "output_type": "stream",
     "text": [
      "7.090227482121722\n",
      "(25, 785)\n",
      "(10, 26)\n"
     ]
    }
   ],
   "source": [
    "lambdas = 0\n",
    "J, gradients = nnCostFunctionAuto(weights, unit_layers, x, y, lambdas)\n",
    "print(J)\n",
    "print(gradients[0].shape)\n",
    "print(gradients[1].shape)"
   ]
  },
  {
   "cell_type": "markdown",
   "metadata": {},
   "source": [
    "# Gradient Checking"
   ]
  },
  {
   "cell_type": "code",
   "execution_count": 156,
   "metadata": {},
   "outputs": [
    {
     "name": "stdout",
     "output_type": "stream",
     "text": [
      "(5, 3)\n",
      "(5,)\n"
     ]
    }
   ],
   "source": [
    "x = np.random.rand(5, 3)\n",
    "y = np.array([1, 0, 2, 0, 1])\n",
    "print(x.shape)\n",
    "print(y.shape)"
   ]
  },
  {
   "cell_type": "code",
   "execution_count": 157,
   "metadata": {},
   "outputs": [
    {
     "name": "stdout",
     "output_type": "stream",
     "text": [
      "(2, 4)\n",
      "(3, 3)\n",
      "3\n"
     ]
    }
   ],
   "source": [
    "lambdas = 0\n",
    "layers = 3 # number of layers\n",
    "unit_layers = [x.shape[1], 2, 3]\n",
    "weights = []\n",
    "#Creating thetas: Random Initialize\n",
    "for i in range(layers-1):\n",
    "    theta = randInitializeWeights(unit_layers[i], unit_layers[i+1])\n",
    "    weights.append(theta)\n",
    "    print(theta.shape)\n",
    "print(x.shape[1])"
   ]
  },
  {
   "cell_type": "code",
   "execution_count": 158,
   "metadata": {},
   "outputs": [],
   "source": [
    "e = 0.0001"
   ]
  },
  {
   "cell_type": "code",
   "execution_count": 159,
   "metadata": {
    "scrolled": false
   },
   "outputs": [
    {
     "name": "stderr",
     "output_type": "stream",
     "text": [
      "  0%|          | 0/2 [00:00<?, ?it/s]\n",
      "100%|██████████| 4/4 [00:00<00:00, 1116.77it/s]\n",
      "\n",
      "100%|██████████| 4/4 [00:00<00:00, 1440.10it/s]\n",
      "100%|██████████| 2/2 [00:00<00:00, 182.37it/s]\n",
      "  0%|          | 0/3 [00:00<?, ?it/s]\n",
      "100%|██████████| 3/3 [00:00<00:00, 1462.96it/s]\n",
      "\n",
      "100%|██████████| 3/3 [00:00<00:00, 1227.12it/s]\n",
      "\n",
      "100%|██████████| 3/3 [00:00<00:00, 1108.92it/s]\n",
      "100%|██████████| 3/3 [00:00<00:00, 245.43it/s]\n"
     ]
    }
   ],
   "source": [
    "#For Theta1\n",
    "\n",
    "grad1 = np.zeros(weights[0].shape)\n",
    "for i in tqdm(range (weights[0].shape[0])):\n",
    "    for j in tqdm(range (weights[0].shape[1])):\n",
    "        temporal = np.zeros(weights[0].shape)\n",
    "        temporal[i,j] = e\n",
    "        weights_pos = [weights[0]+temporal, weights[1]]\n",
    "        J_pos,_ = nnCostFunctionAuto(weights_pos, unit_layers, x, y, lambdas)\n",
    "        temporal[i,j] = -e\n",
    "        weights_neg = [weights[0]+temporal, weights[1]]\n",
    "        J_neg,_ = nnCostFunctionAuto(weights_neg, unit_layers, x, y, lambdas)\n",
    "        grad1[i,j] = (J_pos-J_neg)/(2*e)\n",
    "        temporal[i,j] = 0\n",
    "        \n",
    "        \n",
    "grad2 = np.zeros(weights[1].shape)\n",
    "for i in tqdm(range (weights[1].shape[0])):\n",
    "    for j in tqdm(range (weights[1].shape[1])):\n",
    "        temporal = np.zeros(weights[1].shape)\n",
    "        temporal[i,j] = e\n",
    "        weights_pos = [weights[0], weights[1]+temporal]\n",
    "        J_pos,_ = nnCostFunctionAuto(weights_pos, unit_layers, x, y, lambdas)\n",
    "        temporal[i,j] = -e\n",
    "        weights_neg = [weights[0], weights[1]+temporal]\n",
    "        J_neg,_ = nnCostFunctionAuto(weights_neg, unit_layers, x, y, lambdas)\n",
    "        grad2[i,j] = (J_pos-J_neg)/(2*e)\n",
    "        temporal[i,j] = 0\n"
   ]
  },
  {
   "cell_type": "code",
   "execution_count": 160,
   "metadata": {},
   "outputs": [
    {
     "name": "stdout",
     "output_type": "stream",
     "text": [
      "(2, 4)\n",
      "(3, 3)\n"
     ]
    }
   ],
   "source": [
    "print(grad1.shape)\n",
    "print(grad2.shape)"
   ]
  },
  {
   "cell_type": "code",
   "execution_count": 161,
   "metadata": {},
   "outputs": [
    {
     "name": "stdout",
     "output_type": "stream",
     "text": [
      "(2, 4)\n",
      "(3, 3)\n"
     ]
    }
   ],
   "source": [
    "J, gradients = nnCostFunctionAuto(weights, unit_layers, x, y, lambdas)\n",
    "print(gradients[0].shape)\n",
    "print(gradients[1].shape)"
   ]
  },
  {
   "cell_type": "code",
   "execution_count": 162,
   "metadata": {},
   "outputs": [
    {
     "name": "stdout",
     "output_type": "stream",
     "text": [
      "0.045222767337482636\n",
      "3.2946335151410047\n"
     ]
    }
   ],
   "source": [
    "error1 = np.linalg.norm(gradients[0]-grad1)\n",
    "error2 = np.linalg.norm(gradients[1]-grad2)\n",
    "print(error1)\n",
    "print(error2)"
   ]
  },
  {
   "cell_type": "code",
   "execution_count": null,
   "metadata": {},
   "outputs": [],
   "source": []
  },
  {
   "cell_type": "code",
   "execution_count": null,
   "metadata": {},
   "outputs": [],
   "source": []
  },
  {
   "cell_type": "code",
   "execution_count": null,
   "metadata": {},
   "outputs": [],
   "source": []
  },
  {
   "cell_type": "code",
   "execution_count": null,
   "metadata": {},
   "outputs": [],
   "source": [
    "#Gradient Descent\n",
    "initial_Theta1 = randInitializeWeights(input_layer_size, hidden_layer_size)\n",
    "initial_Theta2 = randInitializeWeights(hidden_layer_size, num_labels)\n",
    "for _ in range(100):\n",
    "    nn_params = {'theta1':initial_Theta1, 'theta2':initial_Theta2}#Creation of a dictionary for weights\n",
    "    weights = list(nn_params.values()) #This is a list\n",
    "    J, gradients = nnCostFunction(weights, input_layer_size, hidden_layer_size, num_labels, X, y, lambdas)\n",
    "    initial_Theta1-=0.0001*gradients[0]\n",
    "    initial_Theta2-=0.0001*gradients[1]\n",
    "    print(J)"
   ]
  },
  {
   "cell_type": "code",
   "execution_count": null,
   "metadata": {},
   "outputs": [],
   "source": []
  },
  {
   "cell_type": "code",
   "execution_count": null,
   "metadata": {},
   "outputs": [],
   "source": []
  },
  {
   "cell_type": "code",
   "execution_count": null,
   "metadata": {},
   "outputs": [],
   "source": []
  },
  {
   "cell_type": "code",
   "execution_count": null,
   "metadata": {},
   "outputs": [],
   "source": []
  },
  {
   "cell_type": "code",
   "execution_count": 167,
   "metadata": {},
   "outputs": [
    {
     "data": {
      "text/plain": [
       "array([[0.01109647, 0.24593227],\n",
       "       [0.53376677, 0.52235938]])"
      ]
     },
     "execution_count": 167,
     "metadata": {},
     "output_type": "execute_result"
    }
   ],
   "source": [
    "A = np.random.rand(2,2)\n",
    "A"
   ]
  },
  {
   "cell_type": "code",
   "execution_count": 168,
   "metadata": {},
   "outputs": [],
   "source": [
    "L = np.array([2, 2, 2, 0, 2, 0, 2])\n",
    "L = np.where(L == 0, 1, L)"
   ]
  },
  {
   "cell_type": "code",
   "execution_count": 170,
   "metadata": {},
   "outputs": [
    {
     "name": "stdout",
     "output_type": "stream",
     "text": [
      "[2 2 2 1 2 1 2]\n"
     ]
    }
   ],
   "source": [
    "print(L)"
   ]
  },
  {
   "cell_type": "code",
   "execution_count": 40,
   "metadata": {},
   "outputs": [],
   "source": [
    "l = []"
   ]
  },
  {
   "cell_type": "code",
   "execution_count": 41,
   "metadata": {},
   "outputs": [],
   "source": [
    "l.append(D)"
   ]
  },
  {
   "cell_type": "code",
   "execution_count": 43,
   "metadata": {},
   "outputs": [
    {
     "data": {
      "text/plain": [
       "array([[1, 2, 3],\n",
       "       [6, 5, 4],\n",
       "       [8, 7, 9]])"
      ]
     },
     "execution_count": 43,
     "metadata": {},
     "output_type": "execute_result"
    }
   ],
   "source": [
    "l[0]"
   ]
  },
  {
   "cell_type": "code",
   "execution_count": 142,
   "metadata": {},
   "outputs": [],
   "source": [
    "lo = [1,2,3,4,5]"
   ]
  },
  {
   "cell_type": "code",
   "execution_count": 143,
   "metadata": {},
   "outputs": [
    {
     "data": {
      "text/plain": [
       "4"
      ]
     },
     "execution_count": 143,
     "metadata": {},
     "output_type": "execute_result"
    }
   ],
   "source": [
    "lo.index(lo[-1])"
   ]
  },
  {
   "cell_type": "code",
   "execution_count": 144,
   "metadata": {},
   "outputs": [
    {
     "data": {
      "text/plain": [
       "5"
      ]
     },
     "execution_count": 144,
     "metadata": {},
     "output_type": "execute_result"
    }
   ],
   "source": [
    "len(lo)"
   ]
  },
  {
   "cell_type": "code",
   "execution_count": null,
   "metadata": {},
   "outputs": [],
   "source": []
  },
  {
   "cell_type": "code",
   "execution_count": null,
   "metadata": {},
   "outputs": [],
   "source": [
    "A[0,0]= 2\n",
    "A"
   ]
  },
  {
   "cell_type": "code",
   "execution_count": null,
   "metadata": {},
   "outputs": [],
   "source": [
    "A[:, 1]"
   ]
  },
  {
   "cell_type": "code",
   "execution_count": null,
   "metadata": {},
   "outputs": [],
   "source": [
    "A**2"
   ]
  },
  {
   "cell_type": "code",
   "execution_count": null,
   "metadata": {},
   "outputs": [],
   "source": [
    "np.insert(A, 0, 1, axis=1)"
   ]
  },
  {
   "cell_type": "code",
   "execution_count": null,
   "metadata": {},
   "outputs": [],
   "source": [
    "np.sum(A)"
   ]
  },
  {
   "cell_type": "code",
   "execution_count": null,
   "metadata": {},
   "outputs": [],
   "source": [
    "np.sum(np.sum(A,axis=1), axis=0)"
   ]
  },
  {
   "cell_type": "code",
   "execution_count": null,
   "metadata": {},
   "outputs": [],
   "source": []
  },
  {
   "cell_type": "code",
   "execution_count": 9,
   "metadata": {},
   "outputs": [
    {
     "data": {
      "text/plain": [
       "array([[1, 2, 3],\n",
       "       [6, 5, 4],\n",
       "       [8, 7, 9]])"
      ]
     },
     "execution_count": 9,
     "metadata": {},
     "output_type": "execute_result"
    }
   ],
   "source": [
    "D = np.array([[1,2,3],[6,5,4],[8,7,9]])\n",
    "D"
   ]
  },
  {
   "cell_type": "code",
   "execution_count": null,
   "metadata": {},
   "outputs": [],
   "source": [
    "E = np.array([A, D])\n",
    "E"
   ]
  },
  {
   "cell_type": "code",
   "execution_count": null,
   "metadata": {},
   "outputs": [],
   "source": [
    "E.reshape(6,3)"
   ]
  },
  {
   "cell_type": "code",
   "execution_count": null,
   "metadata": {},
   "outputs": [],
   "source": [
    "B = np.array([[1,2,3,8,9,5,6,7,5,3], [3,4,5,2,1,7,5,9,8,1]])\n",
    "B"
   ]
  },
  {
   "cell_type": "code",
   "execution_count": null,
   "metadata": {},
   "outputs": [],
   "source": [
    "B.shape"
   ]
  },
  {
   "cell_type": "code",
   "execution_count": null,
   "metadata": {},
   "outputs": [],
   "source": [
    "R = np.reshape(B, (-1,5,4))\n",
    "R"
   ]
  },
  {
   "cell_type": "code",
   "execution_count": null,
   "metadata": {},
   "outputs": [],
   "source": [
    "C = np.array([[[1,2,3,8,9],[5,6,7,5,3]],[[3,4,5,2,1],[7,5,9,8,1]]])\n",
    "C"
   ]
  },
  {
   "cell_type": "code",
   "execution_count": null,
   "metadata": {},
   "outputs": [],
   "source": [
    "A = np.rand()"
   ]
  },
  {
   "cell_type": "code",
   "execution_count": null,
   "metadata": {},
   "outputs": [],
   "source": []
  },
  {
   "cell_type": "code",
   "execution_count": null,
   "metadata": {},
   "outputs": [],
   "source": []
  },
  {
   "cell_type": "code",
   "execution_count": null,
   "metadata": {},
   "outputs": [],
   "source": []
  }
 ],
 "metadata": {
  "kernelspec": {
   "display_name": "Python 3",
   "language": "python",
   "name": "python3"
  },
  "language_info": {
   "codemirror_mode": {
    "name": "ipython",
    "version": 3
   },
   "file_extension": ".py",
   "mimetype": "text/x-python",
   "name": "python",
   "nbconvert_exporter": "python",
   "pygments_lexer": "ipython3",
   "version": "3.7.4"
  }
 },
 "nbformat": 4,
 "nbformat_minor": 2
}
